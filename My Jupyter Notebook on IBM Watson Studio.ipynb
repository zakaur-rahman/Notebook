{
    "cells": [
        {
            "metadata": {
                "collapsed": true
            },
            "cell_type": "markdown",
            "source": "# My Jupyter Notebook on IBM Watson Studio"
        },
        {
            "metadata": {},
            "cell_type": "markdown",
            "source": "**ZAKAUR RAHMAN** <br>\nI want to become a good Data Science Engineer."
        },
        {
            "metadata": {},
            "cell_type": "markdown",
            "source": "*I am interested in data science because I love to play with data to analyse and extract usefull information.*"
        },
        {
            "metadata": {},
            "cell_type": "markdown",
            "source": "### The following code swap two variables."
        },
        {
            "metadata": {},
            "cell_type": "code",
            "source": "# Python program to swap two variables\n\nx = 5\ny = 10\n\n# To take inputs from the user\n#x = input('Enter value of x: ')\n#y = input('Enter value of y: ')\n\n# create a temporary variable and swap the values\ntemp = x\nx = y\ny = temp\n\nprint('The value of x after swapping: {}'.format(x))\nprint('The value of y after swapping: {}'.format(y))",
            "execution_count": 2,
            "outputs": [
                {
                    "output_type": "stream",
                    "text": "The value of x after swapping: 10\nThe value of y after swapping: 5\n",
                    "name": "stdout"
                }
            ]
        },
        {
            "metadata": {},
            "cell_type": "markdown",
            "source": " **1 Bullet**\n* This is first bullet list*\n* This is second bullet list*\n* This is third bullet list*\n\n**2 code/syntax highligh**<br>\n`# To take inputs from the user\n#x = input('Enter value of x: ')\n#y = input('Enter value of y: ')`<br>\n**3 Hyperlink**<br>\n<a href=\"https://github.com/zakaur-rahman\" target=\"_blank\">Github Profile</a>"
        }
    ],
    "metadata": {
        "kernelspec": {
            "name": "python3",
            "display_name": "Python 3.9",
            "language": "python"
        },
        "language_info": {
            "name": "python",
            "version": "3.9.12",
            "mimetype": "text/x-python",
            "codemirror_mode": {
                "name": "ipython",
                "version": 3
            },
            "pygments_lexer": "ipython3",
            "nbconvert_exporter": "python",
            "file_extension": ".py"
        }
    },
    "nbformat": 4,
    "nbformat_minor": 1
}